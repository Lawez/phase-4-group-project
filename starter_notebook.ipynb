{
 "cells": [
  {
   "cell_type": "markdown",
   "metadata": {},
   "source": [
    "# Mod 4 Project - Starter Notebook\n",
    "\n",
    "This notebook has been provided to you so that you can make use of the following starter code to help with the trickier parts of preprocessing the Zillow dataset. \n",
    "\n",
    "The notebook contains a rough outline the general order you'll likely want to take in this project. You'll notice that most of the areas are left blank. This is so that it's more obvious exactly when you should make use of the starter code provided for preprocessing. \n",
    "\n",
    "**_NOTE:_** The number of empty cells are not meant to infer how much or how little code should be involved in any given step--we've just provided a few for your convenience. Add, delete, and change things around in this notebook as needed!\n",
    "\n",
    "# Some Notes Before Starting\n",
    "\n",
    "This project will be one of the more challenging projects you complete in this program. This is because working with Time Series data is a bit different than working with regular datasets. In order to make this a bit less frustrating and help you understand what you need to do (and when you need to do it), we'll quickly review the dataset formats that you'll encounter in this project. \n",
    "\n",
    "## Wide Format vs Long Format\n",
    "\n",
    "If you take a look at the format of the data in `zillow_data.csv`, you'll notice that the actual Time Series values are stored as separate columns. Here's a sample: \n",
    "\n",
    "<img src='https://raw.githubusercontent.com/learn-co-students/dsc-mod-4-project-seattle-ds-102819/master/images/df_head.png'>\n",
    "\n",
    "You'll notice that the first seven columns look like any other dataset you're used to working with. However, column 8 refers to the median housing sales values for April 1996, column 9 for May 1996, and so on. This This is called **_Wide Format_**, and it makes the dataframe intuitive and easy to read. However, there are problems with this format when it comes to actually learning from the data, because the data only makes sense if you know the name of the column that the data can be found it. Since column names are metadata, our algorithms will miss out on what dates each value is for. This means that before we pass this data to our ARIMA model, we'll need to reshape our dataset to **_Long Format_**. Reshaped into long format, the dataframe above would now look like:\n",
    "\n",
    "<img src='https://raw.githubusercontent.com/learn-co-students/dsc-mod-4-project-seattle-ds-102819/master/images/melted1.png'>\n",
    "\n",
    "There are now many more rows in this dataset--one for each unique time and zipcode combination in the data! Once our dataset is in this format, we'll be able to train an ARIMA model on it. The method used to convert from Wide to Long is `pd.melt()`, and it is common to refer to our dataset as 'melted' after the transition to denote that it is in long format. \n",
    "\n",
    "# Helper Functions Provided\n",
    "\n",
    "Melting a dataset can be tricky if you've never done it before, so you'll see that we have provided a sample function, `melt_data()`, to help you with this step below. Also provided is:\n",
    "\n",
    "* `get_datetimes()`, a function to deal with converting the column values for datetimes as a pandas series of datetime objects\n",
    "* Some good parameters for matplotlib to help make your visualizations more readable. \n",
    "\n",
    "Good luck!\n"
   ]
  },
  {
   "attachments": {},
   "cell_type": "markdown",
   "metadata": {},
   "source": [
    "## BUSINESS OVERVIEW\n",
    "Zillow is a leading online real estate marketplace that provides valuable services and tools for home buyers, sellers, renters, and real estate professionals. \n",
    "\n",
    "The real estate investment firm is seeking to leverage data-driven insights to identify the best zip codes for real estate investment. The firm aims to make strategic investment decisions based on accurate forecasts of future real estate prices. By investing in the right locations, the company intends to maximize profitability and mitigate risk. The goal is to provide clients with attractive investment opportunities and generate sustainable returns.\n",
    "\n",
    "\n",
    "### INTRODUCTION\n",
    "We will be forecasting real estate prices of various zip codes using data from Zillow Research. The Zillow real-estate investment firm has tasked us with finding out which zip codes align with the investment firm's objectives and strategy.\n",
    "\n",
    "\n",
    "### CHALLENGES\n",
    "- In conducting the analysis, we had to determine how to best go about it given the ambiguity of the data. Finding out what would be the best method to go about the project in order to garner the best results. The major challenges were whether to direct the results towards maximizing profit, minimizing loss and risk and what time horizon would best fit for the project\n",
    "\n",
    "- Model Selection and Performance Evaluation:\n",
    "\n",
    "Selecting an appropriate time series forecasting model can be challenging due to the diverse nature of real estate data. There are several models available, such as ARIMA, SARIMA, Prophet, or machine learning algorithms, each with their strengths and limitations. Determining the most suitable model and optimizing its performance requires careful consideration and thorough evaluation using appropriate evaluation metrics.\n",
    "\n",
    "### PROBLEM STATEMENT\n",
    "*The firm wants to maximize profitability while considering the associated risks and the time horizon for the investment.*\n",
    "\n",
    "### OBJECTIVES\n",
    "The objective of this project is:\n",
    "\n",
    "1. To provide a recommendation for the top 5 best zip codes for a real estate investment firm to invest in.\n",
    "\n",
    "2. What are the historical trends and patterns in real estate prices for different zip codes?\n",
    "\n",
    "3. What are the key factors that influence real estate prices in each zip code?\n",
    "\n",
    "4. How do different zip codes compare in terms of risk and return on investment?\n",
    "\n",
    "#### DATA\n",
    "This dataset was obtained from [Zillow Research](https://www.zillow.com/research/data/). The dataset was from 1996- 2018. It has 14273 rows and 272 columns.\n",
    "\n",
    "#### RECORDING THE EXPERIMENTAL DESIGN\n",
    "* Data Exploration: Begin by exploring the provided dataset, zillow_data.csv, to gain insights into the real estate market. Understand the variables, their meanings, and the structure of the data. This exploration will guide the selection of predictors for real estate price forecasting.\n",
    "\n",
    "* Definition of \"Best Investment\": Clarify the investment firm's objectives, risk tolerance, and investment strategy. Consider the desired profitability, time horizon, and any specific constraints or preferences. This definition will guide the selection of evaluation metrics and the criteria for identifying the top 5 zip codes.\n",
    "\n",
    "* Data Preprocessing and Feature Engineering: Clean the dataset, handle missing values, and preprocess the features for modeling. Explore the possibility of incorporating external data sources, such as economic indicators or demographic data, to enhance the forecasting models. Feature engineering techniques may be applied to extract meaningful information from the available variables.\n",
    "\n",
    "* Time Series Modeling: Select an appropriate time series forecasting model based on the characteristics of the data and the defined objectives. Popular models for time series forecasting include ARIMA, SARIMA, Prophet, or machine learning algorithms like LSTM or XGBoost. Train the chosen model using historical real estate price data.\n",
    "\n",
    "* Model Evaluation: Evaluate the performance of the time series model using appropriate metrics, such as mean squared error (MSE), mean absolute error (MAE), or root mean squared error (RMSE). Compare the model's accuracy against baseline models or other approaches to assess its effectiveness in predicting real estate prices.\n",
    "\n",
    "* Risk Assessment: Assess the risk associated with each zip code by analyzing historical price volatility, market trends, and external factors that may impact the real estate market. Consider factors such as economic stability, population growth, crime rates, and the availability of amenities. Quantify the risk using suitable risk evaluation techniques.\n",
    "\n",
    "* Final Recommendation: Synthesize the findings from the risk assessment, return on investment and model performance to make a recommendation on the top 5 best zip codes for investment. Present a rationale that incorporates key insights from the data analysis and supports the recommendation with quantitative and qualitative justifications.\n"
   ]
  },
  {
   "attachments": {},
   "cell_type": "markdown",
   "metadata": {},
   "source": [
    "### The Metrics of success include:\n",
    "\n",
    "* ROI (Return on Investment) from Initial to Final House Price. This helps measure for profitability of a venture and in this case the best zipcodes to invest in. The higher the ROI the better the as it compares favorably to the cost \n",
    "* Risk Assessment. Quantify and evaluate the risk associated with each recommended zip code. This can be done by considering metrics such as historical price volatility from the values, market stability based on trends, as well as risk indicators also from trends. A successful recommendation should consider a balanced risk profile while maximizing potential returns."
   ]
  },
  {
   "cell_type": "markdown",
   "metadata": {},
   "source": [
    "# Step 1: Load the Data/Filtering for Chosen Zipcodes"
   ]
  },
  {
   "cell_type": "code",
   "execution_count": 139,
   "metadata": {},
   "outputs": [],
   "source": [
    "#importing necessary libraries\n",
    "import pandas as pd\n",
    "import numpy as np\n",
    "import matplotlib.pyplot as plt\n",
    "import seaborn as sns\n",
    "%matplotlib inline\n"
   ]
  },
  {
   "cell_type": "code",
   "execution_count": 140,
   "metadata": {},
   "outputs": [
    {
     "data": {
      "text/html": [
       "<div>\n",
       "<style scoped>\n",
       "    .dataframe tbody tr th:only-of-type {\n",
       "        vertical-align: middle;\n",
       "    }\n",
       "\n",
       "    .dataframe tbody tr th {\n",
       "        vertical-align: top;\n",
       "    }\n",
       "\n",
       "    .dataframe thead th {\n",
       "        text-align: right;\n",
       "    }\n",
       "</style>\n",
       "<table border=\"1\" class=\"dataframe\">\n",
       "  <thead>\n",
       "    <tr style=\"text-align: right;\">\n",
       "      <th></th>\n",
       "      <th>RegionID</th>\n",
       "      <th>RegionName</th>\n",
       "      <th>City</th>\n",
       "      <th>State</th>\n",
       "      <th>Metro</th>\n",
       "      <th>CountyName</th>\n",
       "      <th>SizeRank</th>\n",
       "      <th>1996-04</th>\n",
       "      <th>1996-05</th>\n",
       "      <th>1996-06</th>\n",
       "      <th>...</th>\n",
       "      <th>2017-07</th>\n",
       "      <th>2017-08</th>\n",
       "      <th>2017-09</th>\n",
       "      <th>2017-10</th>\n",
       "      <th>2017-11</th>\n",
       "      <th>2017-12</th>\n",
       "      <th>2018-01</th>\n",
       "      <th>2018-02</th>\n",
       "      <th>2018-03</th>\n",
       "      <th>2018-04</th>\n",
       "    </tr>\n",
       "  </thead>\n",
       "  <tbody>\n",
       "    <tr>\n",
       "      <th>0</th>\n",
       "      <td>84654</td>\n",
       "      <td>60657</td>\n",
       "      <td>Chicago</td>\n",
       "      <td>IL</td>\n",
       "      <td>Chicago</td>\n",
       "      <td>Cook</td>\n",
       "      <td>1</td>\n",
       "      <td>334200.0</td>\n",
       "      <td>335400.0</td>\n",
       "      <td>336500.0</td>\n",
       "      <td>...</td>\n",
       "      <td>1005500</td>\n",
       "      <td>1007500</td>\n",
       "      <td>1007800</td>\n",
       "      <td>1009600</td>\n",
       "      <td>1013300</td>\n",
       "      <td>1018700</td>\n",
       "      <td>1024400</td>\n",
       "      <td>1030700</td>\n",
       "      <td>1033800</td>\n",
       "      <td>1030600</td>\n",
       "    </tr>\n",
       "    <tr>\n",
       "      <th>1</th>\n",
       "      <td>90668</td>\n",
       "      <td>75070</td>\n",
       "      <td>McKinney</td>\n",
       "      <td>TX</td>\n",
       "      <td>Dallas-Fort Worth</td>\n",
       "      <td>Collin</td>\n",
       "      <td>2</td>\n",
       "      <td>235700.0</td>\n",
       "      <td>236900.0</td>\n",
       "      <td>236700.0</td>\n",
       "      <td>...</td>\n",
       "      <td>308000</td>\n",
       "      <td>310000</td>\n",
       "      <td>312500</td>\n",
       "      <td>314100</td>\n",
       "      <td>315000</td>\n",
       "      <td>316600</td>\n",
       "      <td>318100</td>\n",
       "      <td>319600</td>\n",
       "      <td>321100</td>\n",
       "      <td>321800</td>\n",
       "    </tr>\n",
       "    <tr>\n",
       "      <th>2</th>\n",
       "      <td>91982</td>\n",
       "      <td>77494</td>\n",
       "      <td>Katy</td>\n",
       "      <td>TX</td>\n",
       "      <td>Houston</td>\n",
       "      <td>Harris</td>\n",
       "      <td>3</td>\n",
       "      <td>210400.0</td>\n",
       "      <td>212200.0</td>\n",
       "      <td>212200.0</td>\n",
       "      <td>...</td>\n",
       "      <td>321000</td>\n",
       "      <td>320600</td>\n",
       "      <td>320200</td>\n",
       "      <td>320400</td>\n",
       "      <td>320800</td>\n",
       "      <td>321200</td>\n",
       "      <td>321200</td>\n",
       "      <td>323000</td>\n",
       "      <td>326900</td>\n",
       "      <td>329900</td>\n",
       "    </tr>\n",
       "    <tr>\n",
       "      <th>3</th>\n",
       "      <td>84616</td>\n",
       "      <td>60614</td>\n",
       "      <td>Chicago</td>\n",
       "      <td>IL</td>\n",
       "      <td>Chicago</td>\n",
       "      <td>Cook</td>\n",
       "      <td>4</td>\n",
       "      <td>498100.0</td>\n",
       "      <td>500900.0</td>\n",
       "      <td>503100.0</td>\n",
       "      <td>...</td>\n",
       "      <td>1289800</td>\n",
       "      <td>1287700</td>\n",
       "      <td>1287400</td>\n",
       "      <td>1291500</td>\n",
       "      <td>1296600</td>\n",
       "      <td>1299000</td>\n",
       "      <td>1302700</td>\n",
       "      <td>1306400</td>\n",
       "      <td>1308500</td>\n",
       "      <td>1307000</td>\n",
       "    </tr>\n",
       "    <tr>\n",
       "      <th>4</th>\n",
       "      <td>93144</td>\n",
       "      <td>79936</td>\n",
       "      <td>El Paso</td>\n",
       "      <td>TX</td>\n",
       "      <td>El Paso</td>\n",
       "      <td>El Paso</td>\n",
       "      <td>5</td>\n",
       "      <td>77300.0</td>\n",
       "      <td>77300.0</td>\n",
       "      <td>77300.0</td>\n",
       "      <td>...</td>\n",
       "      <td>119100</td>\n",
       "      <td>119400</td>\n",
       "      <td>120000</td>\n",
       "      <td>120300</td>\n",
       "      <td>120300</td>\n",
       "      <td>120300</td>\n",
       "      <td>120300</td>\n",
       "      <td>120500</td>\n",
       "      <td>121000</td>\n",
       "      <td>121500</td>\n",
       "    </tr>\n",
       "    <tr>\n",
       "      <th>...</th>\n",
       "      <td>...</td>\n",
       "      <td>...</td>\n",
       "      <td>...</td>\n",
       "      <td>...</td>\n",
       "      <td>...</td>\n",
       "      <td>...</td>\n",
       "      <td>...</td>\n",
       "      <td>...</td>\n",
       "      <td>...</td>\n",
       "      <td>...</td>\n",
       "      <td>...</td>\n",
       "      <td>...</td>\n",
       "      <td>...</td>\n",
       "      <td>...</td>\n",
       "      <td>...</td>\n",
       "      <td>...</td>\n",
       "      <td>...</td>\n",
       "      <td>...</td>\n",
       "      <td>...</td>\n",
       "      <td>...</td>\n",
       "      <td>...</td>\n",
       "    </tr>\n",
       "    <tr>\n",
       "      <th>14718</th>\n",
       "      <td>58333</td>\n",
       "      <td>1338</td>\n",
       "      <td>Ashfield</td>\n",
       "      <td>MA</td>\n",
       "      <td>Greenfield Town</td>\n",
       "      <td>Franklin</td>\n",
       "      <td>14719</td>\n",
       "      <td>94600.0</td>\n",
       "      <td>94300.0</td>\n",
       "      <td>94000.0</td>\n",
       "      <td>...</td>\n",
       "      <td>216800</td>\n",
       "      <td>217700</td>\n",
       "      <td>218600</td>\n",
       "      <td>218500</td>\n",
       "      <td>218100</td>\n",
       "      <td>216400</td>\n",
       "      <td>213100</td>\n",
       "      <td>209800</td>\n",
       "      <td>209200</td>\n",
       "      <td>209300</td>\n",
       "    </tr>\n",
       "    <tr>\n",
       "      <th>14719</th>\n",
       "      <td>59107</td>\n",
       "      <td>3293</td>\n",
       "      <td>Woodstock</td>\n",
       "      <td>NH</td>\n",
       "      <td>Claremont</td>\n",
       "      <td>Grafton</td>\n",
       "      <td>14720</td>\n",
       "      <td>92700.0</td>\n",
       "      <td>92500.0</td>\n",
       "      <td>92400.0</td>\n",
       "      <td>...</td>\n",
       "      <td>202100</td>\n",
       "      <td>208400</td>\n",
       "      <td>212200</td>\n",
       "      <td>215200</td>\n",
       "      <td>214300</td>\n",
       "      <td>213100</td>\n",
       "      <td>213700</td>\n",
       "      <td>218300</td>\n",
       "      <td>222700</td>\n",
       "      <td>225800</td>\n",
       "    </tr>\n",
       "    <tr>\n",
       "      <th>14720</th>\n",
       "      <td>75672</td>\n",
       "      <td>40404</td>\n",
       "      <td>Berea</td>\n",
       "      <td>KY</td>\n",
       "      <td>Richmond</td>\n",
       "      <td>Madison</td>\n",
       "      <td>14721</td>\n",
       "      <td>57100.0</td>\n",
       "      <td>57300.0</td>\n",
       "      <td>57500.0</td>\n",
       "      <td>...</td>\n",
       "      <td>121800</td>\n",
       "      <td>122800</td>\n",
       "      <td>124600</td>\n",
       "      <td>126700</td>\n",
       "      <td>128800</td>\n",
       "      <td>130600</td>\n",
       "      <td>131700</td>\n",
       "      <td>132500</td>\n",
       "      <td>133000</td>\n",
       "      <td>133400</td>\n",
       "    </tr>\n",
       "    <tr>\n",
       "      <th>14721</th>\n",
       "      <td>93733</td>\n",
       "      <td>81225</td>\n",
       "      <td>Mount Crested Butte</td>\n",
       "      <td>CO</td>\n",
       "      <td>NaN</td>\n",
       "      <td>Gunnison</td>\n",
       "      <td>14722</td>\n",
       "      <td>191100.0</td>\n",
       "      <td>192400.0</td>\n",
       "      <td>193700.0</td>\n",
       "      <td>...</td>\n",
       "      <td>662800</td>\n",
       "      <td>671200</td>\n",
       "      <td>682400</td>\n",
       "      <td>695600</td>\n",
       "      <td>695500</td>\n",
       "      <td>694700</td>\n",
       "      <td>706400</td>\n",
       "      <td>705300</td>\n",
       "      <td>681500</td>\n",
       "      <td>664400</td>\n",
       "    </tr>\n",
       "    <tr>\n",
       "      <th>14722</th>\n",
       "      <td>95851</td>\n",
       "      <td>89155</td>\n",
       "      <td>Mesquite</td>\n",
       "      <td>NV</td>\n",
       "      <td>Las Vegas</td>\n",
       "      <td>Clark</td>\n",
       "      <td>14723</td>\n",
       "      <td>176400.0</td>\n",
       "      <td>176300.0</td>\n",
       "      <td>176100.0</td>\n",
       "      <td>...</td>\n",
       "      <td>333800</td>\n",
       "      <td>336400</td>\n",
       "      <td>339700</td>\n",
       "      <td>343800</td>\n",
       "      <td>346800</td>\n",
       "      <td>348900</td>\n",
       "      <td>350400</td>\n",
       "      <td>353000</td>\n",
       "      <td>356000</td>\n",
       "      <td>357200</td>\n",
       "    </tr>\n",
       "  </tbody>\n",
       "</table>\n",
       "<p>14723 rows × 272 columns</p>\n",
       "</div>"
      ],
      "text/plain": [
       "       RegionID  RegionName                 City State              Metro  \\\n",
       "0         84654       60657              Chicago    IL            Chicago   \n",
       "1         90668       75070             McKinney    TX  Dallas-Fort Worth   \n",
       "2         91982       77494                 Katy    TX            Houston   \n",
       "3         84616       60614              Chicago    IL            Chicago   \n",
       "4         93144       79936              El Paso    TX            El Paso   \n",
       "...         ...         ...                  ...   ...                ...   \n",
       "14718     58333        1338             Ashfield    MA    Greenfield Town   \n",
       "14719     59107        3293            Woodstock    NH          Claremont   \n",
       "14720     75672       40404                Berea    KY           Richmond   \n",
       "14721     93733       81225  Mount Crested Butte    CO                NaN   \n",
       "14722     95851       89155             Mesquite    NV          Las Vegas   \n",
       "\n",
       "      CountyName  SizeRank   1996-04   1996-05   1996-06  ...  2017-07  \\\n",
       "0           Cook         1  334200.0  335400.0  336500.0  ...  1005500   \n",
       "1         Collin         2  235700.0  236900.0  236700.0  ...   308000   \n",
       "2         Harris         3  210400.0  212200.0  212200.0  ...   321000   \n",
       "3           Cook         4  498100.0  500900.0  503100.0  ...  1289800   \n",
       "4        El Paso         5   77300.0   77300.0   77300.0  ...   119100   \n",
       "...          ...       ...       ...       ...       ...  ...      ...   \n",
       "14718   Franklin     14719   94600.0   94300.0   94000.0  ...   216800   \n",
       "14719    Grafton     14720   92700.0   92500.0   92400.0  ...   202100   \n",
       "14720    Madison     14721   57100.0   57300.0   57500.0  ...   121800   \n",
       "14721   Gunnison     14722  191100.0  192400.0  193700.0  ...   662800   \n",
       "14722      Clark     14723  176400.0  176300.0  176100.0  ...   333800   \n",
       "\n",
       "       2017-08  2017-09  2017-10  2017-11  2017-12  2018-01  2018-02  2018-03  \\\n",
       "0      1007500  1007800  1009600  1013300  1018700  1024400  1030700  1033800   \n",
       "1       310000   312500   314100   315000   316600   318100   319600   321100   \n",
       "2       320600   320200   320400   320800   321200   321200   323000   326900   \n",
       "3      1287700  1287400  1291500  1296600  1299000  1302700  1306400  1308500   \n",
       "4       119400   120000   120300   120300   120300   120300   120500   121000   \n",
       "...        ...      ...      ...      ...      ...      ...      ...      ...   \n",
       "14718   217700   218600   218500   218100   216400   213100   209800   209200   \n",
       "14719   208400   212200   215200   214300   213100   213700   218300   222700   \n",
       "14720   122800   124600   126700   128800   130600   131700   132500   133000   \n",
       "14721   671200   682400   695600   695500   694700   706400   705300   681500   \n",
       "14722   336400   339700   343800   346800   348900   350400   353000   356000   \n",
       "\n",
       "       2018-04  \n",
       "0      1030600  \n",
       "1       321800  \n",
       "2       329900  \n",
       "3      1307000  \n",
       "4       121500  \n",
       "...        ...  \n",
       "14718   209300  \n",
       "14719   225800  \n",
       "14720   133400  \n",
       "14721   664400  \n",
       "14722   357200  \n",
       "\n",
       "[14723 rows x 272 columns]"
      ]
     },
     "execution_count": 140,
     "metadata": {},
     "output_type": "execute_result"
    }
   ],
   "source": [
    "#loading the dataset\n",
    "data=pd.read_csv('zillow_data.csv')\n",
    "data"
   ]
  },
  {
   "cell_type": "code",
   "execution_count": 141,
   "metadata": {},
   "outputs": [
    {
     "data": {
      "text/plain": [
       "Index(['RegionID', 'RegionName', 'City', 'State', 'Metro', 'CountyName',\n",
       "       'SizeRank', '1996-04', '1996-05', '1996-06',\n",
       "       ...\n",
       "       '2017-07', '2017-08', '2017-09', '2017-10', '2017-11', '2017-12',\n",
       "       '2018-01', '2018-02', '2018-03', '2018-04'],\n",
       "      dtype='object', length=272)"
      ]
     },
     "execution_count": 141,
     "metadata": {},
     "output_type": "execute_result"
    }
   ],
   "source": [
    "#checking columns\n",
    "data.columns"
   ]
  },
  {
   "cell_type": "code",
   "execution_count": 142,
   "metadata": {},
   "outputs": [
    {
     "name": "stdout",
     "output_type": "stream",
     "text": [
      "Dataset 1 - Number of rows: 14723\n",
      "Dataset 1 - Number of columns: 272\n"
     ]
    }
   ],
   "source": [
    "# A function to print the shape of our datasets\n",
    "def print_dataset_shape(*datasets):\n",
    "    \"\"\"\n",
    "    Prints the shape of one or more datasets (number of rows and columns).\n",
    "    Assumes datasets are in a Pandas DataFrame format.\n",
    "    \"\"\"\n",
    "    for idx, dataset in enumerate(datasets):\n",
    "        print(f\"Dataset {idx + 1} - Number of rows: {dataset.shape[0]}\")\n",
    "        print(f\"Dataset {idx + 1} - Number of columns: {dataset.shape[1]}\")\n",
    "# print the shape of our dataset\n",
    "print_dataset_shape(data)"
   ]
  },
  {
   "cell_type": "code",
   "execution_count": 143,
   "metadata": {},
   "outputs": [
    {
     "name": "stdout",
     "output_type": "stream",
     "text": [
      "<class 'pandas.core.frame.DataFrame'>\n",
      "RangeIndex: 14723 entries, 0 to 14722\n",
      "Columns: 272 entries, RegionID to 2018-04\n",
      "dtypes: float64(219), int64(49), object(4)\n",
      "memory usage: 30.6+ MB\n"
     ]
    }
   ],
   "source": [
    "#getting the info of dataset\n",
    "data.info()"
   ]
  },
  {
   "cell_type": "code",
   "execution_count": 144,
   "metadata": {},
   "outputs": [
    {
     "data": {
      "text/plain": [
       "RegionID       int64\n",
       "RegionName     int64\n",
       "City          object\n",
       "State         object\n",
       "Metro         object\n",
       "               ...  \n",
       "2017-12        int64\n",
       "2018-01        int64\n",
       "2018-02        int64\n",
       "2018-03        int64\n",
       "2018-04        int64\n",
       "Length: 272, dtype: object"
      ]
     },
     "execution_count": 144,
     "metadata": {},
     "output_type": "execute_result"
    }
   ],
   "source": [
    "data.dtypes"
   ]
  },
  {
   "cell_type": "code",
   "execution_count": 145,
   "metadata": {},
   "outputs": [],
   "source": [
    "# Renaming the 'RegionID' column to 'Zipcode'\n",
    "data.rename(columns={'RegionID': 'Zipcode'}, inplace=True)"
   ]
  },
  {
   "cell_type": "code",
   "execution_count": 146,
   "metadata": {},
   "outputs": [],
   "source": [
    "# ROI(Return On Investment)\n",
    "data['ROI'] = ((data['2018-04'] - data['1996-04']) / data['1996-04']) * 100"
   ]
  },
  {
   "cell_type": "code",
   "execution_count": 147,
   "metadata": {},
   "outputs": [],
   "source": [
    "# Return on Investment after 2008 Housing Crash\n",
    "data['ROI2'] = ((data['2018-04'] - data['2012-01']) / data['2012-01']) * 100"
   ]
  },
  {
   "cell_type": "code",
   "execution_count": 148,
   "metadata": {},
   "outputs": [],
   "source": [
    "# Coefficient of Variation\n",
    "\n",
    "# Calculating STD for CV\n",
    "data['std'] = data.loc[:, '1996-04':'2018-04'].std(skipna=True, axis=1)\n",
    "\n",
    "# Calculating Mean for CV\n",
    "data['mean'] = data.loc[:, '1996-04':'2018-04'].mean(skipna=True, axis=1)\n",
    "\n",
    "# Calculating CV\n",
    "data['CV'] = data['std']/data['mean']\n",
    "\n",
    "# Dropping std and mean\n",
    "data.drop(['std', 'mean'], inplace=True, axis=1)"
   ]
  },
  {
   "cell_type": "code",
   "execution_count": 149,
   "metadata": {},
   "outputs": [
    {
     "name": "stdout",
     "output_type": "stream",
     "text": [
      "       Market Stability  Risk Indicator 1  Risk Indicator 2\n",
      "0           2637.878788         72.338845         72.338845\n",
      "1            326.136364        102.831531        102.831531\n",
      "2            452.651515         83.355060         83.355060\n",
      "3           3064.015152         75.465013         75.465013\n",
      "4            167.424242        108.509251        108.509251\n",
      "...                 ...               ...               ...\n",
      "14718        434.469697         88.410375         88.410375\n",
      "14719        504.166667         97.781951         97.781951\n",
      "14720        289.015152         61.492708         61.492708\n",
      "14721       1792.803030         76.159109         76.159109\n",
      "14722        684.848485        122.164315        122.164315\n",
      "\n",
      "[14723 rows x 3 columns]\n"
     ]
    }
   ],
   "source": [
    "\n",
    "# Calculate historical price volatility (standard deviation) for each zip code\n",
    "data['Volatility'] = data.loc[:, '1996-04':'2018-04'].std(axis=1)\n",
    "\n",
    "# Calculate market stability (average price growth) for each zip code\n",
    "data['Market Stability'] = data.loc[:, '1996-04':'2018-04'].apply(lambda row: np.mean(np.diff(row)), axis=1)\n",
    "\n",
    "# Calculate other risk indicators based on your analysis requirements\n",
    "data['Risk Indicator 1'] = data['Volatility'] / data['Market Stability']\n",
    "data['Risk Indicator 2'] = data['Volatility'] / data['Market Stability']\n",
    "# Add more risk indicators as needed\n",
    "\n",
    "# Create a new DataFrame with market stability and risk indicators\n",
    "risk_df = pd.DataFrame()\n",
    "risk_df['Market Stability'] = data['Market Stability']\n",
    "risk_df['Risk Indicator 1'] = data['Risk Indicator 1']\n",
    "risk_df['Risk Indicator 2'] = data['Risk Indicator 2']\n",
    "# Add more risk indicators as needed\n",
    "\n",
    "# Print the new DataFrame\n",
    "print(risk_df)"
   ]
  },
  {
   "cell_type": "code",
   "execution_count": 150,
   "metadata": {},
   "outputs": [
    {
     "data": {
      "text/plain": [
       "Index(['Zipcode', 'RegionName', 'City', 'State', 'Metro', 'CountyName',\n",
       "       'SizeRank', '1996-04', '1996-05', '1996-06',\n",
       "       ...\n",
       "       '2018-02', '2018-03', '2018-04', 'ROI', 'ROI2', 'CV', 'Volatility',\n",
       "       'Market Stability', 'Risk Indicator 1', 'Risk Indicator 2'],\n",
       "      dtype='object', length=279)"
      ]
     },
     "execution_count": 150,
     "metadata": {},
     "output_type": "execute_result"
    }
   ],
   "source": [
    "data.columns"
   ]
  },
  {
   "cell_type": "markdown",
   "metadata": {},
   "source": [
    "# Step 2: Data Preprocessing"
   ]
  },
  {
   "cell_type": "code",
   "execution_count": 151,
   "metadata": {},
   "outputs": [],
   "source": [
    "def get_datetimes(df):\n",
    "    \"\"\"\n",
    "    Takes a dataframe:\n",
    "    returns only those column names that can be converted into datetime objects \n",
    "    as datetime objects.\n",
    "    NOTE number of returned columns may not match total number of columns in passed dataframe\n",
    "    \"\"\"\n",
    "    \n",
    "    return pd.to_datetime(df.columns.values[1:], format='%Y-%m')"
   ]
  },
  {
   "cell_type": "markdown",
   "metadata": {},
   "source": [
    "#### Checking for duplicates"
   ]
  },
  {
   "cell_type": "code",
   "execution_count": 152,
   "metadata": {},
   "outputs": [
    {
     "name": "stdout",
     "output_type": "stream",
     "text": [
      "No duplicates found in the dataset\n"
     ]
    }
   ],
   "source": [
    "# A function to check for duplicates in our datasets\n",
    "def check_duplicates(df):\n",
    "    \"\"\"\n",
    "    This function checks for and returns any duplicates in a given dataframe.\n",
    "    \"\"\"\n",
    "    duplicates = df[df.duplicated()]\n",
    "    if duplicates.shape[0] == 0:\n",
    "        print(\"No duplicates found in the dataset\")\n",
    "    else:\n",
    "        print(\"Duplicates found in the dataset:\")\n",
    "        return duplicates\n",
    "# Calling for the function to check for duplicates\n",
    "check_duplicates(data)"
   ]
  },
  {
   "cell_type": "markdown",
   "metadata": {},
   "source": [
    "#### Checking for missing values"
   ]
  },
  {
   "cell_type": "code",
   "execution_count": 153,
   "metadata": {},
   "outputs": [
    {
     "data": {
      "text/html": [
       "<div>\n",
       "<style scoped>\n",
       "    .dataframe tbody tr th:only-of-type {\n",
       "        vertical-align: middle;\n",
       "    }\n",
       "\n",
       "    .dataframe tbody tr th {\n",
       "        vertical-align: top;\n",
       "    }\n",
       "\n",
       "    .dataframe thead th {\n",
       "        text-align: right;\n",
       "    }\n",
       "</style>\n",
       "<table border=\"1\" class=\"dataframe\">\n",
       "  <thead>\n",
       "    <tr style=\"text-align: right;\">\n",
       "      <th></th>\n",
       "      <th>Missing Values</th>\n",
       "      <th>% of Total</th>\n",
       "    </tr>\n",
       "  </thead>\n",
       "  <tbody>\n",
       "    <tr>\n",
       "      <th>Metro</th>\n",
       "      <td>1043</td>\n",
       "      <td>7.084154</td>\n",
       "    </tr>\n",
       "    <tr>\n",
       "      <th>1996-04</th>\n",
       "      <td>1039</td>\n",
       "      <td>7.056986</td>\n",
       "    </tr>\n",
       "    <tr>\n",
       "      <th>1996-05</th>\n",
       "      <td>1039</td>\n",
       "      <td>7.056986</td>\n",
       "    </tr>\n",
       "    <tr>\n",
       "      <th>1996-06</th>\n",
       "      <td>1039</td>\n",
       "      <td>7.056986</td>\n",
       "    </tr>\n",
       "    <tr>\n",
       "      <th>1996-07</th>\n",
       "      <td>1039</td>\n",
       "      <td>7.056986</td>\n",
       "    </tr>\n",
       "    <tr>\n",
       "      <th>...</th>\n",
       "      <td>...</td>\n",
       "      <td>...</td>\n",
       "    </tr>\n",
       "    <tr>\n",
       "      <th>ROI</th>\n",
       "      <td>1039</td>\n",
       "      <td>7.056986</td>\n",
       "    </tr>\n",
       "    <tr>\n",
       "      <th>ROI2</th>\n",
       "      <td>224</td>\n",
       "      <td>1.521429</td>\n",
       "    </tr>\n",
       "    <tr>\n",
       "      <th>Market Stability</th>\n",
       "      <td>1039</td>\n",
       "      <td>7.056986</td>\n",
       "    </tr>\n",
       "    <tr>\n",
       "      <th>Risk Indicator 1</th>\n",
       "      <td>1039</td>\n",
       "      <td>7.056986</td>\n",
       "    </tr>\n",
       "    <tr>\n",
       "      <th>Risk Indicator 2</th>\n",
       "      <td>1039</td>\n",
       "      <td>7.056986</td>\n",
       "    </tr>\n",
       "  </tbody>\n",
       "</table>\n",
       "<p>225 rows × 2 columns</p>\n",
       "</div>"
      ],
      "text/plain": [
       "                  Missing Values  % of Total\n",
       "Metro                       1043    7.084154\n",
       "1996-04                     1039    7.056986\n",
       "1996-05                     1039    7.056986\n",
       "1996-06                     1039    7.056986\n",
       "1996-07                     1039    7.056986\n",
       "...                          ...         ...\n",
       "ROI                         1039    7.056986\n",
       "ROI2                         224    1.521429\n",
       "Market Stability            1039    7.056986\n",
       "Risk Indicator 1            1039    7.056986\n",
       "Risk Indicator 2            1039    7.056986\n",
       "\n",
       "[225 rows x 2 columns]"
      ]
     },
     "metadata": {},
     "output_type": "display_data"
    }
   ],
   "source": [
    "# A function to check for missing values in our dataset\n",
    "def check_missing_values(data):\n",
    "    # Count missing values in each column\n",
    "    missing_values = data.isnull().sum()\n",
    "\n",
    "    # Convert missing values count to percentage of total rows\n",
    "    missing_percent = ((missing_values / len(data)) * 100).sort_values(ascending=True)\n",
    "\n",
    "    # Combine the missing values count and percent into a DataFrame\n",
    "    missing_df = pd.concat([missing_values, missing_percent], axis=1)\n",
    "    missing_df.columns = ['Missing Values', '% of Total']\n",
    "\n",
    "    # Return only columns with missing values\n",
    "    missing_df = missing_df[missing_df['Missing Values'] > 0]\n",
    "\n",
    "    return missing_df\n",
    "\n",
    "# Check missing values in each dataset\n",
    "display(check_missing_values(data))"
   ]
  },
  {
   "attachments": {},
   "cell_type": "markdown",
   "metadata": {},
   "source": [
    "There are alot of missing values in the dataset in its wide format. It would be best to check again after converting it into the long format"
   ]
  },
  {
   "cell_type": "code",
   "execution_count": 154,
   "metadata": {},
   "outputs": [
    {
     "data": {
      "text/plain": [
       "Index(['Zipcode', 'RegionName', 'City', 'State', 'Metro', 'CountyName',\n",
       "       'SizeRank', '1996-04', '1996-05', '1996-06',\n",
       "       ...\n",
       "       '2018-02', '2018-03', '2018-04', 'ROI', 'ROI2', 'CV', 'Volatility',\n",
       "       'Market Stability', 'Risk Indicator 1', 'Risk Indicator 2'],\n",
       "      dtype='object', length=279)"
      ]
     },
     "execution_count": 154,
     "metadata": {},
     "output_type": "execute_result"
    }
   ],
   "source": [
    "data.columns"
   ]
  },
  {
   "cell_type": "code",
   "execution_count": 155,
   "metadata": {},
   "outputs": [],
   "source": [
    "# A function to convert the wide format to a long format\n",
    "def melt_df(df):\n",
    "    \"\"\"\n",
    "    Takes the zillow_data dataset in wide form or a subset of the zillow_dataset.  \n",
    "    Returns a long-form datetime dataframe \n",
    "    with the datetime column names as the index and the values as the 'values' column.\n",
    "    \n",
    "    If more than one row is passes in the wide-form dataset, the values column\n",
    "    will be the mean of the values from the datetime columns in all of the rows.\n",
    "    \"\"\"\n",
    "    melted = pd.melt(df, id_vars=['RegionName', 'Zipcode', 'SizeRank', 'City', 'State', 'Metro', 'CountyName', 'ROI', 'ROI2', 'CV', 'Volatility', 'Market Stability', 'Risk Indicator 1', 'Risk Indicator 2'], var_name='time')\n",
    "\n",
    "    melted['time'] = pd.to_datetime(melted['time'], infer_datetime_format=True)\n",
    "    melted = melted.dropna(subset=['value'])\n",
    "    return melted\n",
    "\n",
    "new = melt_df(data)\n",
    "# Converting the date data type into date time and indexing\n",
    "new['time'] = pd.to_datetime(new['time'], format='%m/%y')\n",
    "\n",
    "# Set the 'Date' column as index\n",
    "new.set_index('time', inplace=True)"
   ]
  },
  {
   "cell_type": "code",
   "execution_count": 156,
   "metadata": {},
   "outputs": [
    {
     "data": {
      "text/plain": [
       "(3744704, 15)"
      ]
     },
     "execution_count": 156,
     "metadata": {},
     "output_type": "execute_result"
    }
   ],
   "source": [
    "# Previewing the new shape\n",
    "new.shape"
   ]
  },
  {
   "cell_type": "code",
   "execution_count": 157,
   "metadata": {},
   "outputs": [
    {
     "name": "stdout",
     "output_type": "stream",
     "text": [
      "No duplicates found in the dataset\n"
     ]
    }
   ],
   "source": [
    "# Checking for duplicated values\n",
    "check_duplicates(data)"
   ]
  },
  {
   "cell_type": "code",
   "execution_count": 158,
   "metadata": {},
   "outputs": [
    {
     "data": {
      "text/html": [
       "<div>\n",
       "<style scoped>\n",
       "    .dataframe tbody tr th:only-of-type {\n",
       "        vertical-align: middle;\n",
       "    }\n",
       "\n",
       "    .dataframe tbody tr th {\n",
       "        vertical-align: top;\n",
       "    }\n",
       "\n",
       "    .dataframe thead th {\n",
       "        text-align: right;\n",
       "    }\n",
       "</style>\n",
       "<table border=\"1\" class=\"dataframe\">\n",
       "  <thead>\n",
       "    <tr style=\"text-align: right;\">\n",
       "      <th></th>\n",
       "      <th>Missing Values</th>\n",
       "      <th>% of Total</th>\n",
       "    </tr>\n",
       "  </thead>\n",
       "  <tbody>\n",
       "    <tr>\n",
       "      <th>Metro</th>\n",
       "      <td>236023</td>\n",
       "      <td>6.302848</td>\n",
       "    </tr>\n",
       "    <tr>\n",
       "      <th>ROI</th>\n",
       "      <td>118444</td>\n",
       "      <td>3.162974</td>\n",
       "    </tr>\n",
       "    <tr>\n",
       "      <th>ROI2</th>\n",
       "      <td>12548</td>\n",
       "      <td>0.335087</td>\n",
       "    </tr>\n",
       "    <tr>\n",
       "      <th>Market Stability</th>\n",
       "      <td>118444</td>\n",
       "      <td>3.162974</td>\n",
       "    </tr>\n",
       "    <tr>\n",
       "      <th>Risk Indicator 1</th>\n",
       "      <td>118444</td>\n",
       "      <td>3.162974</td>\n",
       "    </tr>\n",
       "    <tr>\n",
       "      <th>Risk Indicator 2</th>\n",
       "      <td>118444</td>\n",
       "      <td>3.162974</td>\n",
       "    </tr>\n",
       "  </tbody>\n",
       "</table>\n",
       "</div>"
      ],
      "text/plain": [
       "                  Missing Values  % of Total\n",
       "Metro                     236023    6.302848\n",
       "ROI                       118444    3.162974\n",
       "ROI2                       12548    0.335087\n",
       "Market Stability          118444    3.162974\n",
       "Risk Indicator 1          118444    3.162974\n",
       "Risk Indicator 2          118444    3.162974"
      ]
     },
     "metadata": {},
     "output_type": "display_data"
    }
   ],
   "source": [
    "# Checking the percentage of missing values\n",
    "display(check_missing_values(new))"
   ]
  },
  {
   "attachments": {},
   "cell_type": "markdown",
   "metadata": {},
   "source": [
    "Given that the percentage of the missing values is small, It would be best to fill the null values with the preceeding or following entries with the mean and Metro column with forward fill"
   ]
  },
  {
   "cell_type": "code",
   "execution_count": 159,
   "metadata": {},
   "outputs": [],
   "source": [
    "#Filling missing values of ROI,ROI2 and Market stability by there mean data\n",
    "new['ROI'] = new['ROI'].fillna(new['ROI'].mean())\n",
    "new['ROI2'] = new['ROI2'].fillna(new['ROI2'].mean())\n",
    "new['Market Stability'] = new['Market Stability'].fillna(new['Market Stability'].mean())\n",
    "new['Risk Indicator 1'] = new['Risk Indicator 1'].fillna(new['Risk Indicator 1'].mean())\n",
    "new['Risk Indicator 2'] = new['Risk Indicator 2'].fillna(new['Risk Indicator 2'].mean())"
   ]
  },
  {
   "cell_type": "code",
   "execution_count": 160,
   "metadata": {},
   "outputs": [
    {
     "data": {
      "text/html": [
       "<div>\n",
       "<style scoped>\n",
       "    .dataframe tbody tr th:only-of-type {\n",
       "        vertical-align: middle;\n",
       "    }\n",
       "\n",
       "    .dataframe tbody tr th {\n",
       "        vertical-align: top;\n",
       "    }\n",
       "\n",
       "    .dataframe thead th {\n",
       "        text-align: right;\n",
       "    }\n",
       "</style>\n",
       "<table border=\"1\" class=\"dataframe\">\n",
       "  <thead>\n",
       "    <tr style=\"text-align: right;\">\n",
       "      <th></th>\n",
       "      <th>Missing Values</th>\n",
       "      <th>% of Total</th>\n",
       "    </tr>\n",
       "  </thead>\n",
       "  <tbody>\n",
       "  </tbody>\n",
       "</table>\n",
       "</div>"
      ],
      "text/plain": [
       "Empty DataFrame\n",
       "Columns: [Missing Values, % of Total]\n",
       "Index: []"
      ]
     },
     "execution_count": 160,
     "metadata": {},
     "output_type": "execute_result"
    }
   ],
   "source": [
    "# Foward filling missing values\n",
    "new.ffill(inplace=True)\n",
    "\n",
    "# Confirming missing values have been filled\n",
    "check_missing_values(new)"
   ]
  },
  {
   "cell_type": "code",
   "execution_count": 161,
   "metadata": {},
   "outputs": [
    {
     "data": {
      "text/html": [
       "<div>\n",
       "<style scoped>\n",
       "    .dataframe tbody tr th:only-of-type {\n",
       "        vertical-align: middle;\n",
       "    }\n",
       "\n",
       "    .dataframe tbody tr th {\n",
       "        vertical-align: top;\n",
       "    }\n",
       "\n",
       "    .dataframe thead th {\n",
       "        text-align: right;\n",
       "    }\n",
       "</style>\n",
       "<table border=\"1\" class=\"dataframe\">\n",
       "  <thead>\n",
       "    <tr style=\"text-align: right;\">\n",
       "      <th></th>\n",
       "      <th>RegionName</th>\n",
       "      <th>Zipcode</th>\n",
       "      <th>SizeRank</th>\n",
       "      <th>ROI</th>\n",
       "      <th>ROI2</th>\n",
       "      <th>CV</th>\n",
       "      <th>Volatility</th>\n",
       "      <th>Market Stability</th>\n",
       "      <th>Risk Indicator 1</th>\n",
       "      <th>Risk Indicator 2</th>\n",
       "      <th>value</th>\n",
       "    </tr>\n",
       "  </thead>\n",
       "  <tbody>\n",
       "    <tr>\n",
       "      <th>count</th>\n",
       "      <td>3.744704e+06</td>\n",
       "      <td>3.744704e+06</td>\n",
       "      <td>3.744704e+06</td>\n",
       "      <td>3.744704e+06</td>\n",
       "      <td>3.744704e+06</td>\n",
       "      <td>3.744704e+06</td>\n",
       "      <td>3.744704e+06</td>\n",
       "      <td>3.744704e+06</td>\n",
       "      <td>3.744704e+06</td>\n",
       "      <td>3.744704e+06</td>\n",
       "      <td>3.744704e+06</td>\n",
       "    </tr>\n",
       "    <tr>\n",
       "      <th>mean</th>\n",
       "      <td>4.800889e+04</td>\n",
       "      <td>8.101695e+04</td>\n",
       "      <td>7.243785e+03</td>\n",
       "      <td>1.325605e+02</td>\n",
       "      <td>4.058472e+01</td>\n",
       "      <td>2.247378e-01</td>\n",
       "      <td>5.336766e+04</td>\n",
       "      <td>6.650319e+02</td>\n",
       "      <td>9.106032e+01</td>\n",
       "      <td>9.106032e+01</td>\n",
       "      <td>2.076064e+05</td>\n",
       "    </tr>\n",
       "    <tr>\n",
       "      <th>std</th>\n",
       "      <td>2.959375e+04</td>\n",
       "      <td>3.225436e+04</td>\n",
       "      <td>4.237746e+03</td>\n",
       "      <td>8.521820e+01</td>\n",
       "      <td>3.144294e+01</td>\n",
       "      <td>8.216603e-02</td>\n",
       "      <td>7.628477e+04</td>\n",
       "      <td>9.543431e+02</td>\n",
       "      <td>4.256798e+02</td>\n",
       "      <td>4.256798e+02</td>\n",
       "      <td>2.400207e+05</td>\n",
       "    </tr>\n",
       "    <tr>\n",
       "      <th>min</th>\n",
       "      <td>1.001000e+03</td>\n",
       "      <td>5.819600e+04</td>\n",
       "      <td>1.000000e+00</td>\n",
       "      <td>-5.326087e+01</td>\n",
       "      <td>-4.246032e+01</td>\n",
       "      <td>1.933035e-02</td>\n",
       "      <td>1.233020e+03</td>\n",
       "      <td>-1.098106e+03</td>\n",
       "      <td>-1.100588e+04</td>\n",
       "      <td>-1.100588e+04</td>\n",
       "      <td>1.130000e+04</td>\n",
       "    </tr>\n",
       "    <tr>\n",
       "      <th>25%</th>\n",
       "      <td>2.163500e+04</td>\n",
       "      <td>6.695300e+04</td>\n",
       "      <td>3.572000e+03</td>\n",
       "      <td>7.978597e+01</td>\n",
       "      <td>1.863354e+01</td>\n",
       "      <td>1.618824e-01</td>\n",
       "      <td>1.754262e+04</td>\n",
       "      <td>2.416667e+02</td>\n",
       "      <td>6.790585e+01</td>\n",
       "      <td>6.790585e+01</td>\n",
       "      <td>9.790000e+04</td>\n",
       "    </tr>\n",
       "    <tr>\n",
       "      <th>50%</th>\n",
       "      <td>4.582700e+04</td>\n",
       "      <td>7.792000e+04</td>\n",
       "      <td>7.179000e+03</td>\n",
       "      <td>1.165568e+02</td>\n",
       "      <td>3.194864e+01</td>\n",
       "      <td>2.202396e-01</td>\n",
       "      <td>3.294812e+04</td>\n",
       "      <td>4.162879e+02</td>\n",
       "      <td>8.103339e+01</td>\n",
       "      <td>8.103339e+01</td>\n",
       "      <td>1.476000e+05</td>\n",
       "    </tr>\n",
       "    <tr>\n",
       "      <th>75%</th>\n",
       "      <td>7.547300e+04</td>\n",
       "      <td>9.104500e+04</td>\n",
       "      <td>1.088300e+04</td>\n",
       "      <td>1.596335e+02</td>\n",
       "      <td>5.492104e+01</td>\n",
       "      <td>2.800427e-01</td>\n",
       "      <td>6.256299e+04</td>\n",
       "      <td>7.026515e+02</td>\n",
       "      <td>9.674054e+01</td>\n",
       "      <td>9.674054e+01</td>\n",
       "      <td>2.372000e+05</td>\n",
       "    </tr>\n",
       "    <tr>\n",
       "      <th>max</th>\n",
       "      <td>9.990100e+04</td>\n",
       "      <td>7.538440e+05</td>\n",
       "      <td>1.472300e+04</td>\n",
       "      <td>1.118994e+03</td>\n",
       "      <td>2.432836e+02</td>\n",
       "      <td>6.975408e-01</td>\n",
       "      <td>3.361064e+06</td>\n",
       "      <td>2.127765e+04</td>\n",
       "      <td>4.099563e+04</td>\n",
       "      <td>4.099563e+04</td>\n",
       "      <td>1.931490e+07</td>\n",
       "    </tr>\n",
       "  </tbody>\n",
       "</table>\n",
       "</div>"
      ],
      "text/plain": [
       "         RegionName       Zipcode      SizeRank           ROI          ROI2  \\\n",
       "count  3.744704e+06  3.744704e+06  3.744704e+06  3.744704e+06  3.744704e+06   \n",
       "mean   4.800889e+04  8.101695e+04  7.243785e+03  1.325605e+02  4.058472e+01   \n",
       "std    2.959375e+04  3.225436e+04  4.237746e+03  8.521820e+01  3.144294e+01   \n",
       "min    1.001000e+03  5.819600e+04  1.000000e+00 -5.326087e+01 -4.246032e+01   \n",
       "25%    2.163500e+04  6.695300e+04  3.572000e+03  7.978597e+01  1.863354e+01   \n",
       "50%    4.582700e+04  7.792000e+04  7.179000e+03  1.165568e+02  3.194864e+01   \n",
       "75%    7.547300e+04  9.104500e+04  1.088300e+04  1.596335e+02  5.492104e+01   \n",
       "max    9.990100e+04  7.538440e+05  1.472300e+04  1.118994e+03  2.432836e+02   \n",
       "\n",
       "                 CV    Volatility  Market Stability  Risk Indicator 1  \\\n",
       "count  3.744704e+06  3.744704e+06      3.744704e+06      3.744704e+06   \n",
       "mean   2.247378e-01  5.336766e+04      6.650319e+02      9.106032e+01   \n",
       "std    8.216603e-02  7.628477e+04      9.543431e+02      4.256798e+02   \n",
       "min    1.933035e-02  1.233020e+03     -1.098106e+03     -1.100588e+04   \n",
       "25%    1.618824e-01  1.754262e+04      2.416667e+02      6.790585e+01   \n",
       "50%    2.202396e-01  3.294812e+04      4.162879e+02      8.103339e+01   \n",
       "75%    2.800427e-01  6.256299e+04      7.026515e+02      9.674054e+01   \n",
       "max    6.975408e-01  3.361064e+06      2.127765e+04      4.099563e+04   \n",
       "\n",
       "       Risk Indicator 2         value  \n",
       "count      3.744704e+06  3.744704e+06  \n",
       "mean       9.106032e+01  2.076064e+05  \n",
       "std        4.256798e+02  2.400207e+05  \n",
       "min       -1.100588e+04  1.130000e+04  \n",
       "25%        6.790585e+01  9.790000e+04  \n",
       "50%        8.103339e+01  1.476000e+05  \n",
       "75%        9.674054e+01  2.372000e+05  \n",
       "max        4.099563e+04  1.931490e+07  "
      ]
     },
     "execution_count": 161,
     "metadata": {},
     "output_type": "execute_result"
    }
   ],
   "source": [
    "# Cheaking descriptive statistics\n",
    "new.describe()"
   ]
  },
  {
   "attachments": {},
   "cell_type": "markdown",
   "metadata": {},
   "source": [
    "# Step 3: EDA and Visualization"
   ]
  },
  {
   "attachments": {},
   "cell_type": "markdown",
   "metadata": {},
   "source": [
    "### Question 2: What are the historical trends and patterns in real estate prices for different zip codes?"
   ]
  },
  {
   "cell_type": "code",
   "execution_count": 162,
   "metadata": {},
   "outputs": [
    {
     "data": {
      "image/png": "[encoded data removed]",
      "text/plain": [
       "<Figure size 1000x600 with 1 Axes>"
      ]
     },
     "metadata": {},
     "output_type": "display_data"
    }
   ],
   "source": [
    "# checking for changes in property value over years \n",
    "\n",
    "# setting style using seaborn \n",
    "sns.set_style('darkgrid')\n",
    "# Group data by time and calculate average value\n",
    "avg_value = new.groupby('time')['value'].mean()\n",
    "\n",
    "# Plot line chart\n",
    "plt.figure(figsize=(10,6))\n",
    "plt.plot(avg_value.index, avg_value, color='blue')\n",
    "plt.title('Time Trend of Property Values')\n",
    "plt.xlabel('Time')\n",
    "plt.ylabel('Average Property Value')\n",
    "plt.show()"
   ]
  },
  {
   "attachments": {},
   "cell_type": "markdown",
   "metadata": {},
   "source": [
    "* From the graph above we see an average property value increase from 1996 to 2007, where it drastically dropped to 2012 and increased from 2012 onward. "
   ]
  },
  {
   "cell_type": "code",
   "execution_count": 163,
   "metadata": {},
   "outputs": [
    {
     "data": {
      "image/png": "[encoded data removed]",
      "text/plain": [
       "<Figure size 1500x800 with 1 Axes>"
      ]
     },
     "metadata": {},
     "output_type": "display_data"
    }
   ],
   "source": [
    "# Visualizing top five Region ID with highest price value\n",
    "CV_topzip = pd.DataFrame(new.groupby('Zipcode')['value'].mean().sort_values(ascending=False).head(5))\n",
    "ax3 = CV_topzip.plot(kind='bar', figsize=(15,8), color='blue', fontsize=13);\n",
    "ax3.set_alpha(0.8)\n",
    "\n",
    "ax3.set_title(\"Zipcodes with the Highest value\", fontsize=26)\n",
    "ax3.set_ylabel(\"Average value\", fontsize=20);\n",
    "ax3.set_xlabel(\"Zipcodes\", fontsize=20);"
   ]
  },
  {
   "attachments": {},
   "cell_type": "markdown",
   "metadata": {},
   "source": [
    "* The graph displays the top five zip codes with the highest average property values, indicating areas of potential real estate investment. These zip codes represent regions with strong property demand and potential for property value appreciation hence prospective buyers should consider these zip codes appealing for their investment in high-value properties."
   ]
  },
  {
   "cell_type": "code",
   "execution_count": 164,
   "metadata": {},
   "outputs": [
    {
     "data": {
      "image/png": "[encoded data removed]",
      "text/plain": [
       "<Figure size 1200x600 with 2 Axes>"
      ]
     },
     "metadata": {},
     "output_type": "display_data"
    }
   ],
   "source": [
    "#visualizing the house prices basing on cities \n",
    "# Group data by city and county and calculate mean house prices\n",
    "top_cities = new.groupby(['City', 'CountyName'])['value'].mean().sort_values(ascending=False).head(5)\n",
    "\n",
    "# Sort the top cities and counties\n",
    "top_cities = top_cities.sort_values(ascending=True)\n",
    "top_counties = top_cities.groupby('CountyName').mean().sort_values(ascending=True)\n",
    "\n",
    "# Create a figure with two subplots\n",
    "fig, axs = plt.subplots(1, 2, figsize=(12, 6))\n",
    "\n",
    "# Plot for cities\n",
    "top_cities.plot(kind='barh', color='blue', alpha=0.8, ax=axs[0])\n",
    "axs[0].set_title(\"Top Five Mean House Prices by Cities\", fontsize=16)\n",
    "axs[0].set_xlabel(\"Average Mean House Price\", fontsize=12)\n",
    "axs[0].tick_params(axis='y', labelrotation=0)\n",
    "axs[0].tick_params(axis='both', labelsize=10)\n",
    "\n",
    "# Plot for counties\n",
    "top_counties.plot(kind='barh', color='green', alpha=0.8, ax=axs[1])\n",
    "axs[1].set_title(\"Top Five Mean House Prices by Counties\", fontsize=16)\n",
    "axs[1].set_xlabel(\"Average Mean House Price\", fontsize=12)\n",
    "axs[1].tick_params(axis='y', labelrotation=0)\n",
    "axs[1].tick_params(axis='both', labelsize=10)\n",
    "\n",
    "# Adjust spacing between subplots\n",
    "fig.tight_layout()\n",
    "\n",
    "# Display the plot\n",
    "plt.show()\n",
    "\n",
    "\n"
   ]
  },
  {
   "attachments": {},
   "cell_type": "markdown",
   "metadata": {},
   "source": [
    "* The visual above reveals the top five cities with the highest average mean house prices and the top five counties with the highest average mean house prices. This information helps identify the areas where housing prices are the highest, providing valuable insights for buyers and investors."
   ]
  },
  {
   "attachments": {},
   "cell_type": "markdown",
   "metadata": {},
   "source": [
    "### Question 3: What are the key factors that influence real estate prices in each zip code?"
   ]
  },
  {
   "cell_type": "code",
   "execution_count": null,
   "metadata": {},
   "outputs": [],
   "source": []
  },
  {
   "attachments": {},
   "cell_type": "markdown",
   "metadata": {},
   "source": [
    "### Question 4: How do different zip codes compare in terms of risk and return on investment?"
   ]
  },
  {
   "cell_type": "code",
   "execution_count": 165,
   "metadata": {},
   "outputs": [],
   "source": [
    "\n",
    "\n",
    "plt.figure(figsize=(10, 6))\n",
    "sns.scatterplot(x='value', y='ROI', data=new, alpha=0.6)\n",
    "plt.xlabel('Property Value')\n",
    "plt.ylabel('ROI')\n",
    "plt.title('ROI vs. Property Value')\n",
    "plt.show()\n",
    "\n"
   ]
  },
  {
   "cell_type": "markdown",
   "metadata": {},
   "source": [
    "# Step 4: Reshape from Wide to Long Format"
   ]
  },
  {
   "cell_type": "code",
   "execution_count": null,
   "metadata": {},
   "outputs": [],
   "source": []
  },
  {
   "cell_type": "code",
   "execution_count": null,
   "metadata": {},
   "outputs": [],
   "source": []
  },
  {
   "cell_type": "code",
   "execution_count": null,
   "metadata": {},
   "outputs": [],
   "source": []
  },
  {
   "cell_type": "markdown",
   "metadata": {},
   "source": [
    "# Step 5: ARIMA Modeling"
   ]
  },
  {
   "cell_type": "code",
   "execution_count": null,
   "metadata": {},
   "outputs": [],
   "source": []
  },
  {
   "cell_type": "code",
   "execution_count": null,
   "metadata": {},
   "outputs": [],
   "source": []
  },
  {
   "cell_type": "code",
   "execution_count": null,
   "metadata": {},
   "outputs": [],
   "source": []
  },
  {
   "cell_type": "code",
   "execution_count": null,
   "metadata": {},
   "outputs": [],
   "source": []
  },
  {
   "cell_type": "code",
   "execution_count": null,
   "metadata": {},
   "outputs": [],
   "source": []
  },
  {
   "cell_type": "code",
   "execution_count": null,
   "metadata": {},
   "outputs": [],
   "source": []
  },
  {
   "cell_type": "markdown",
   "metadata": {},
   "source": [
    "# Step 6: Interpreting Results"
   ]
  },
  {
   "cell_type": "code",
   "execution_count": null,
   "metadata": {},
   "outputs": [],
   "source": []
  },
  {
   "cell_type": "code",
   "execution_count": null,
   "metadata": {},
   "outputs": [],
   "source": []
  },
  {
   "cell_type": "code",
   "execution_count": null,
   "metadata": {},
   "outputs": [],
   "source": []
  }
 ],
 "metadata": {
  "kernelspec": {
   "display_name": "Python 3",
   "language": "python",
   "name": "python3"
  },
  "language_info": {
   "codemirror_mode": {
    "name": "ipython",
    "version": 3
   },
   "file_extension": ".py",
   "mimetype": "text/x-python",
   "name": "python",
   "nbconvert_exporter": "python",
   "pygments_lexer": "ipython3",
   "version": "3.10.9"
  }
 },
 "nbformat": 4,
 "nbformat_minor": 2
}
